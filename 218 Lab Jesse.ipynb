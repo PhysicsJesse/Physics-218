{
 "cells": [
  {
   "cell_type": "markdown",
   "metadata": {
    "deletable": true,
    "editable": true
   },
   "source": [
    "Jesse Cook\n",
    "1/17/19\n",
    "Phsx 218"
   ]
  },
  {
   "cell_type": "markdown",
   "metadata": {
    "deletable": true,
    "editable": true
   },
   "source": [
    "# Plotting Code"
   ]
  },
  {
   "cell_type": "markdown",
   "metadata": {
    "deletable": true,
    "editable": true
   },
   "source": [
    "To do equations, surround it in \\$."
   ]
  },
  {
   "cell_type": "markdown",
   "metadata": {
    "deletable": true,
    "editable": true
   },
   "source": [
    "$\\frac{a}{b}$ = \\frac{a}{b}"
   ]
  },
  {
   "cell_type": "markdown",
   "metadata": {
    "deletable": true,
    "editable": true
   },
   "source": [
    "$\\sqrt{a}$ = \\sqrt{a}"
   ]
  },
  {
   "cell_type": "markdown",
   "metadata": {
    "deletable": true,
    "editable": true
   },
   "source": [
    "$\\alpha \\beta$ = \\alpha \\beta"
   ]
  },
  {
   "cell_type": "markdown",
   "metadata": {
    "deletable": true,
    "editable": true
   },
   "source": [
    "$\\alpha = \\frac{\\Delta L}{L \\Delta T}$"
   ]
  },
  {
   "cell_type": "code",
   "execution_count": 17,
   "metadata": {
    "collapsed": false,
    "deletable": true,
    "editable": true
   },
   "outputs": [],
   "source": [
    "#functions and imports\n",
    "import numpy as np\n",
    "import matplotlib.pyplot as plt\n",
    "\n",
    "def rule3(dA,dB,dC=0.0,dD=0.0,dE=0.0,dF=0.0,dG=0.0,dH=0.0,dI=0.0):\n",
    "    return np.sqrt(dA**2+dB**2+dC**2+dD**2+dE**2+dF**2+dG**2+dH**2+dI**2)\n",
    "\n",
    "def rule4(value,A,dA,B,dB,C=1.0,dC=0.0,D=1.0,dD=0.0,E=1.0,dE=0.0,F=1.0,dF=0.0,G=1.0,dG=0.0,H=1.0,dH=0.0,I=1.0,dI=0.0):\n",
    "    return value*np.sqrt((dA/A)**2+(dB/B)**2+(dC/C)**2+(dD/D)**2+(dE/E)**2+(dF/F)**2+(dG/G)**2+(dH/H)**2+(dI/I)**2)\n",
    "\n",
    "def thermal_expansion_coeff(L, deltaL, deltaT):\n",
    "    return deltaL/(L*deltaT)"
   ]
  },
  {
   "cell_type": "code",
   "execution_count": 19,
   "metadata": {
    "collapsed": false,
    "deletable": true,
    "editable": true
   },
   "outputs": [
    {
     "name": "stdout",
     "output_type": "stream",
     "text": [
      "('Thermal Expansion Coefficient       = ', 1.7228309558266145e-05, ' Celcius ^-1')\n",
      "('Thermal Expansion Coefficient error = ', 1.5962962826045274e-07)\n"
     ]
    }
   ],
   "source": [
    "#data\n",
    "L = 1.05 #m\n",
    "dL = 0.001 #m\n",
    "deltaL = 0.00125 #m\n",
    "ddeltaL = 0.00001 #m\n",
    "Ti = 23.4 #*C\n",
    "Tf = 92.5 #*C\n",
    "dTi = 0.3 #*C\n",
    "dTf = 0.1 #*C\n",
    "\n",
    "deltaT = Tf-Ti\n",
    "ddeltaT = rule3(dTi,dTf)\n",
    "\n",
    "print (\"Thermal Expansion Coefficient       = \",\n",
    "       thermal_expansion_coeff(L, deltaL, deltaT),\n",
    "       \" Celcius ^-1\")\n",
    "\n",
    "print (\"Thermal Expansion Coefficient error = \",\n",
    "       rule4(thermal_expansion_coeff(L, deltaL, deltaT),deltaL,ddeltaL,(-1*L),dL,(-1*deltaT),ddeltaT))"
   ]
  },
  {
   "cell_type": "code",
   "execution_count": null,
   "metadata": {
    "collapsed": true,
    "deletable": true,
    "editable": true
   },
   "outputs": [],
   "source": []
  }
 ],
 "metadata": {
  "kernelspec": {
   "display_name": "Python 2",
   "language": "python",
   "name": "python2"
  },
  "language_info": {
   "codemirror_mode": {
    "name": "ipython",
    "version": 2
   },
   "file_extension": ".py",
   "mimetype": "text/x-python",
   "name": "python",
   "nbconvert_exporter": "python",
   "pygments_lexer": "ipython2",
   "version": "2.7.13"
  }
 },
 "nbformat": 4,
 "nbformat_minor": 2
}
