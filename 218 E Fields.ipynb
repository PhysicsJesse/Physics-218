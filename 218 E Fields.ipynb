{
 "cells": [
  {
   "cell_type": "markdown",
   "metadata": {
    "deletable": true,
    "editable": true
   },
   "source": [
    "Jesse Cook\n",
    "1/17/19\n",
    "Phsx 218"
   ]
  },
  {
   "cell_type": "markdown",
   "metadata": {
    "deletable": true,
    "editable": true
   },
   "source": [
    "# Plotting Code"
   ]
  },
  {
   "cell_type": "markdown",
   "metadata": {
    "deletable": true,
    "editable": true
   },
   "source": [
    "To do equations, surround it in \\$."
   ]
  },
  {
   "cell_type": "markdown",
   "metadata": {
    "deletable": true,
    "editable": true
   },
   "source": [
    "$\\frac{a}{b}$ = \\frac{a}{b}"
   ]
  },
  {
   "cell_type": "markdown",
   "metadata": {
    "deletable": true,
    "editable": true
   },
   "source": [
    "$\\sqrt{a}$ = \\sqrt{a}"
   ]
  },
  {
   "cell_type": "markdown",
   "metadata": {
    "deletable": true,
    "editable": true
   },
   "source": [
    "$\\alpha \\beta$ = \\alpha \\beta"
   ]
  },
  {
   "cell_type": "markdown",
   "metadata": {
    "deletable": true,
    "editable": true
   },
   "source": [
    "$\\alpha = \\frac{\\Delta L}{L \\Delta T}$"
   ]
  },
  {
   "cell_type": "code",
   "execution_count": 22,
   "metadata": {
    "collapsed": false,
    "deletable": true,
    "editable": true
   },
   "outputs": [
    {
     "name": "stdout",
     "output_type": "stream",
     "text": [
      "[ 0.1    0.12   0.11   0.13   0.15   0.13   0.11   0.165  0.315  0.285\n",
      "  0.765  0.29 ]\n"
     ]
    },
    {
     "data": {
      "image/png": "[encoded data removed]",
      "text/plain": [
       "<matplotlib.figure.Figure at 0x80ec198>"
      ]
     },
     "metadata": {},
     "output_type": "display_data"
    }
   ],
   "source": [
    "#functions and imports\n",
    "import numpy as np\n",
    "import matplotlib.pyplot as plt\n",
    "\n",
    "def rule3(dA,dB,dC=0.0,dD=0.0,dE=0.0,dF=0.0,dG=0.0,dH=0.0,dI=0.0):\n",
    "    return np.sqrt(dA**2+dB**2+dC**2+dD**2+dE**2+dF**2+dG**2+dH**2+dI**2)\n",
    "\n",
    "def rule4(value,A,dA,B,dB,C=1.0,dC=0.0,D=1.0,dD=0.0,E=1.0,dE=0.0,F=1.0,dF=0.0,G=1.0,dG=0.0,H=1.0,dH=0.0,I=1.0,dI=0.0):\n",
    "    return value*np.sqrt((dA/A)**2+(dB/B)**2+(dC/C)**2+(dD/D)**2+(dE/E)**2+(dF/F)**2+(dG/G)**2+(dH/H)**2+(dI/I)**2)\n",
    "\n",
    "r = np.array([0.075,0.07,0.065,0.06,0.055,0.05,0.045,0.04,0.035,0.03,0.025,0.02,0.015])\n",
    "\n",
    "v1 = np.array([7.09,6.99,6.87,6.76,6.63,6.48,6.350,6.240,6.075,5.760,5.475,4.710,4.42])\n",
    "\n",
    "def mid(array,mid=False):\n",
    "    resultarray = []\n",
    "    for i in range(1,len(array)):\n",
    "        if mid:\n",
    "            resultarray.append(abs((array[i]+array[i-1])/2.0))\n",
    "        else:\n",
    "            resultarray.append(abs(array[i]-array[i-1]))\n",
    "    return np.array(resultarray)\n",
    "\n",
    "DeltaV1 = mid(v1)\n",
    "print(DeltaV1)\n",
    "\n",
    "DeltaR = 0.05\n",
    "\n",
    "Rmid1 = mid(r,True)\n",
    "\n",
    "E1 = DeltaV1/DeltaR\n",
    "\n",
    "y=np.log(E1)\n",
    "x=np.log(Rmid1)\n",
    "\n",
    "dv = 0.15\n",
    "\n",
    "dR = 0.0005\n",
    "\n",
    "dE1 = rule4(E1,DeltaV1,np.sqrt(2)*dv,DeltaR,dR)\n",
    "\n",
    "dy=np.log(E1+dE1)-np.log(E1)\n",
    "\n",
    "#Jaylene's Plotting Code\n",
    "#----------------------------------------------#\n",
    "#Don't need to change anything in this section!\n",
    " \n",
    "#Find the intercept and slope, b and m, from Python's polynomial fitting function\n",
    "b,m=np.polynomial.polynomial.polyfit(x,y,1,w=dy)\n",
    "\n",
    "#Write the equation for the best fit line based on the slope and intercept\n",
    "fit = b+m*x\n",
    "\n",
    "#Calculate the error in slope and intercept \n",
    "#def Delta(x, dy) is a function, and we will learn how to write our own at a later date. They are very useful!\n",
    "def Delta(x, dy):\n",
    "    D = (sum(1/dy**2))*(sum(x**2/dy**2))-(sum(x/dy**2))**2\n",
    "    return D\n",
    " \n",
    "D=Delta(x, dy)\n",
    " \n",
    "dm = np.sqrt(1/D*sum(1/dy**2)) #error in slope\n",
    "db = np.sqrt(1/D*sum(x**2/dy**2)) #error in intercept\n",
    "\n",
    "#Calculate the \"goodness of fit\" from the linear least squares fitting document\n",
    "def LLSFD2(x,y,dy):\n",
    "    N = sum(((y-b-m*x)/dy)**2)\n",
    "    return N\n",
    "                      \n",
    "N = LLSFD2(x,y,dy)\n",
    "\n",
    "#-----------------------------------------------------------------------#\n",
    "#Plot data on graph. Plot error bars and place values for slope, error in slope and goodness of fit on the plot using \"annotate\"\n",
    "plt.figure(figsize=(15,10))\n",
    " \n",
    "plt.plot(x, fit, color='green', linestyle='--')\n",
    "plt.scatter(x, y, color='blue', marker='o')\n",
    " \n",
    " \n",
    "#create labels  YOU NEED TO CHANGE THESE!!!\n",
    "plt.xlabel('ln(rmid)')\n",
    "plt.ylabel('ln(E)')\n",
    "plt.title('Electric Potential')\n",
    " \n",
    "plt.errorbar(x, y, yerr=dy, xerr=None, fmt=\"none\") #don't need to plot x error bars\n",
    " \n",
    "plt.annotate('Slope = {value:.{digits}E}'.format(value=m, digits=2),\n",
    "             (0.05, 0.9), xycoords='axes fraction')\n",
    " \n",
    "plt.annotate('Error in Slope = {value:.{digits}E}'.format(value=dm, digits=1),\n",
    "             (0.05, 0.85), xycoords='axes fraction')\n",
    " \n",
    "plt.annotate('Goodness of fit = {value:.{digits}E}'.format(value=N, digits=2),\n",
    "             (0.05, 0.80), xycoords='axes fraction')\n",
    "\n",
    "plt.show()\n",
    "\n",
    "\n"
   ]
  },
  {
   "cell_type": "code",
   "execution_count": null,
   "metadata": {
    "collapsed": true,
    "deletable": true,
    "editable": true
   },
   "outputs": [],
   "source": []
  }
 ],
 "metadata": {
  "kernelspec": {
   "display_name": "Python 2",
   "language": "python",
   "name": "python2"
  },
  "language_info": {
   "codemirror_mode": {
    "name": "ipython",
    "version": 2
   },
   "file_extension": ".py",
   "mimetype": "text/x-python",
   "name": "python",
   "nbconvert_exporter": "python",
   "pygments_lexer": "ipython2",
   "version": "2.7.13"
  }
 },
 "nbformat": 4,
 "nbformat_minor": 2
}
